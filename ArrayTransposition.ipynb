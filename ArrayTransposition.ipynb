{
 "cells": [
  {
   "cell_type": "code",
   "execution_count": 16,
   "id": "fa503fbe-8464-41e9-98f0-e8522c570a4b",
   "metadata": {},
   "outputs": [],
   "source": [
    "import numpy as np\n"
   ]
  },
  {
   "cell_type": "code",
   "execution_count": 3,
   "id": "ce1cacd7-42f9-444d-a114-345feefce74d",
   "metadata": {},
   "outputs": [],
   "source": [
    "arr = np.arange(50).reshape([10,5])"
   ]
  },
  {
   "cell_type": "code",
   "execution_count": 5,
   "id": "0a69dc7d-9c35-4e27-b273-a0b0f4898734",
   "metadata": {},
   "outputs": [
    {
     "data": {
      "text/plain": [
       "array([[ 0,  1,  2,  3,  4],\n",
       "       [ 5,  6,  7,  8,  9],\n",
       "       [10, 11, 12, 13, 14],\n",
       "       [15, 16, 17, 18, 19],\n",
       "       [20, 21, 22, 23, 24],\n",
       "       [25, 26, 27, 28, 29],\n",
       "       [30, 31, 32, 33, 34],\n",
       "       [35, 36, 37, 38, 39],\n",
       "       [40, 41, 42, 43, 44],\n",
       "       [45, 46, 47, 48, 49]])"
      ]
     },
     "execution_count": 5,
     "metadata": {},
     "output_type": "execute_result"
    }
   ],
   "source": [
    "arr"
   ]
  },
  {
   "cell_type": "code",
   "execution_count": 7,
   "id": "9fca525f-278d-49a2-a902-235e7eb85d37",
   "metadata": {},
   "outputs": [
    {
     "data": {
      "text/plain": [
       "array([[ 0,  5, 10, 15, 20, 25, 30, 35, 40, 45],\n",
       "       [ 1,  6, 11, 16, 21, 26, 31, 36, 41, 46],\n",
       "       [ 2,  7, 12, 17, 22, 27, 32, 37, 42, 47],\n",
       "       [ 3,  8, 13, 18, 23, 28, 33, 38, 43, 48],\n",
       "       [ 4,  9, 14, 19, 24, 29, 34, 39, 44, 49]])"
      ]
     },
     "execution_count": 7,
     "metadata": {},
     "output_type": "execute_result"
    }
   ],
   "source": [
    "arr.T"
   ]
  },
  {
   "cell_type": "code",
   "execution_count": 9,
   "id": "745cffd4-0531-4cf3-b026-6064a316a9cf",
   "metadata": {},
   "outputs": [
    {
     "data": {
      "text/plain": [
       "array([[7125, 7350, 7575, 7800, 8025],\n",
       "       [7350, 7585, 7820, 8055, 8290],\n",
       "       [7575, 7820, 8065, 8310, 8555],\n",
       "       [7800, 8055, 8310, 8565, 8820],\n",
       "       [8025, 8290, 8555, 8820, 9085]])"
      ]
     },
     "execution_count": 9,
     "metadata": {},
     "output_type": "execute_result"
    }
   ],
   "source": [
    "np.dot(arr.T,arr)"
   ]
  },
  {
   "cell_type": "code",
   "execution_count": 11,
   "id": "9893fff7-d531-4b72-a828-c5a16808d34e",
   "metadata": {},
   "outputs": [
    {
     "data": {
      "text/plain": [
       "array([[[ 0,  1],\n",
       "        [ 2,  3],\n",
       "        [ 4,  5],\n",
       "        [ 6,  7],\n",
       "        [ 8,  9]],\n",
       "\n",
       "       [[10, 11],\n",
       "        [12, 13],\n",
       "        [14, 15],\n",
       "        [16, 17],\n",
       "        [18, 19]],\n",
       "\n",
       "       [[20, 21],\n",
       "        [22, 23],\n",
       "        [24, 25],\n",
       "        [26, 27],\n",
       "        [28, 29]],\n",
       "\n",
       "       [[30, 31],\n",
       "        [32, 33],\n",
       "        [34, 35],\n",
       "        [36, 37],\n",
       "        [38, 39]],\n",
       "\n",
       "       [[40, 41],\n",
       "        [42, 43],\n",
       "        [44, 45],\n",
       "        [46, 47],\n",
       "        [48, 49]]])"
      ]
     },
     "execution_count": 11,
     "metadata": {},
     "output_type": "execute_result"
    }
   ],
   "source": [
    "arr3d = np.arange(50).reshape([5, 5, 2])\n",
    "arr3d"
   ]
  },
  {
   "cell_type": "code",
   "execution_count": 20,
   "id": "869965a5-c4c0-49d3-bbe0-8d8a62a66761",
   "metadata": {},
   "outputs": [
    {
     "data": {
      "text/plain": [
       "array([[[  0,   1],\n",
       "        [  2,   3],\n",
       "        [  4,   5],\n",
       "        [  6,   7],\n",
       "        [  8,   9],\n",
       "        [ 10,  11],\n",
       "        [ 12,  13],\n",
       "        [ 14,  15],\n",
       "        [ 16,  17],\n",
       "        [ 18,  19]],\n",
       "\n",
       "       [[ 20,  21],\n",
       "        [ 22,  23],\n",
       "        [ 24,  25],\n",
       "        [ 26,  27],\n",
       "        [ 28,  29],\n",
       "        [ 30,  31],\n",
       "        [ 32,  33],\n",
       "        [ 34,  35],\n",
       "        [ 36,  37],\n",
       "        [ 38,  39]],\n",
       "\n",
       "       [[ 40,  41],\n",
       "        [ 42,  43],\n",
       "        [ 44,  45],\n",
       "        [ 46,  47],\n",
       "        [ 48,  49],\n",
       "        [ 50,  51],\n",
       "        [ 52,  53],\n",
       "        [ 54,  55],\n",
       "        [ 56,  57],\n",
       "        [ 58,  59]],\n",
       "\n",
       "       [[ 60,  61],\n",
       "        [ 62,  63],\n",
       "        [ 64,  65],\n",
       "        [ 66,  67],\n",
       "        [ 68,  69],\n",
       "        [ 70,  71],\n",
       "        [ 72,  73],\n",
       "        [ 74,  75],\n",
       "        [ 76,  77],\n",
       "        [ 78,  79]],\n",
       "\n",
       "       [[ 80,  81],\n",
       "        [ 82,  83],\n",
       "        [ 84,  85],\n",
       "        [ 86,  87],\n",
       "        [ 88,  89],\n",
       "        [ 90,  91],\n",
       "        [ 92,  93],\n",
       "        [ 94,  95],\n",
       "        [ 96,  97],\n",
       "        [ 98,  99]],\n",
       "\n",
       "       [[100, 101],\n",
       "        [102, 103],\n",
       "        [104, 105],\n",
       "        [106, 107],\n",
       "        [108, 109],\n",
       "        [110, 111],\n",
       "        [112, 113],\n",
       "        [114, 115],\n",
       "        [116, 117],\n",
       "        [118, 119]],\n",
       "\n",
       "       [[120, 121],\n",
       "        [122, 123],\n",
       "        [124, 125],\n",
       "        [126, 127],\n",
       "        [128, 129],\n",
       "        [130, 131],\n",
       "        [132, 133],\n",
       "        [134, 135],\n",
       "        [136, 137],\n",
       "        [138, 139]],\n",
       "\n",
       "       [[140, 141],\n",
       "        [142, 143],\n",
       "        [144, 145],\n",
       "        [146, 147],\n",
       "        [148, 149],\n",
       "        [150, 151],\n",
       "        [152, 153],\n",
       "        [154, 155],\n",
       "        [156, 157],\n",
       "        [158, 159]],\n",
       "\n",
       "       [[160, 161],\n",
       "        [162, 163],\n",
       "        [164, 165],\n",
       "        [166, 167],\n",
       "        [168, 169],\n",
       "        [170, 171],\n",
       "        [172, 173],\n",
       "        [174, 175],\n",
       "        [176, 177],\n",
       "        [178, 179]],\n",
       "\n",
       "       [[180, 181],\n",
       "        [182, 183],\n",
       "        [184, 185],\n",
       "        [186, 187],\n",
       "        [188, 189],\n",
       "        [190, 191],\n",
       "        [192, 193],\n",
       "        [194, 195],\n",
       "        [196, 197],\n",
       "        [198, 199]]])"
      ]
     },
     "execution_count": 20,
     "metadata": {},
     "output_type": "execute_result"
    }
   ],
   "source": [
    "arr3d = np.arange(200).reshape([10, 10, 2])\n",
    "arr3d"
   ]
  },
  {
   "cell_type": "code",
   "execution_count": 30,
   "id": "d7edf5e6-8faf-4b52-9455-108d0e89b0bb",
   "metadata": {},
   "outputs": [
    {
     "data": {
      "text/plain": [
       "array([1, 2, 3])"
      ]
     },
     "execution_count": 30,
     "metadata": {},
     "output_type": "execute_result"
    }
   ],
   "source": [
    "arr = np.array([1, 2, 3])\n",
    "arr"
   ]
  },
  {
   "cell_type": "code",
   "execution_count": 32,
   "id": "bdc96a42-6723-4dce-b6bc-6768392fed1c",
   "metadata": {},
   "outputs": [
    {
     "ename": "AxisError",
     "evalue": "axis2: axis 1 is out of bounds for array of dimension 1",
     "output_type": "error",
     "traceback": [
      "\u001b[1;31m---------------------------------------------------------------------------\u001b[0m",
      "\u001b[1;31mAxisError\u001b[0m                                 Traceback (most recent call last)",
      "Cell \u001b[1;32mIn[32], line 1\u001b[0m\n\u001b[1;32m----> 1\u001b[0m arr\u001b[38;5;241m.\u001b[39mswapaxes(\u001b[38;5;241m0\u001b[39m,\u001b[38;5;241m1\u001b[39m)\n",
      "\u001b[1;31mAxisError\u001b[0m: axis2: axis 1 is out of bounds for array of dimension 1"
     ]
    }
   ],
   "source": [
    "arr.swapaxes(0,1)"
   ]
  },
  {
   "cell_type": "code",
   "execution_count": null,
   "id": "99485846-a8d7-4ba9-aa43-efdac1999d7e",
   "metadata": {},
   "outputs": [],
   "source": []
  }
 ],
 "metadata": {
  "kernelspec": {
   "display_name": "Python 3 (ipykernel)",
   "language": "python",
   "name": "python3"
  },
  "language_info": {
   "codemirror_mode": {
    "name": "ipython",
    "version": 3
   },
   "file_extension": ".py",
   "mimetype": "text/x-python",
   "name": "python",
   "nbconvert_exporter": "python",
   "pygments_lexer": "ipython3",
   "version": "3.11.7"
  }
 },
 "nbformat": 4,
 "nbformat_minor": 5
}
