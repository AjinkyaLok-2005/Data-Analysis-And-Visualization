{
 "cells": [
  {
   "cell_type": "code",
   "execution_count": 1,
   "id": "a467aede-9021-47bc-988d-88066003456c",
   "metadata": {},
   "outputs": [],
   "source": [
    "import numpy as np\n",
    "import  pandas as pd\n",
    "from pandas import Series,DataFrame"
   ]
  },
  {
   "cell_type": "code",
   "execution_count": 3,
   "id": "6e3f26df-c0d4-450e-b587-a158eb4f27ad",
   "metadata": {},
   "outputs": [
    {
     "data": {
      "text/plain": [
       "C    0\n",
       "A    1\n",
       "B    2\n",
       "dtype: int32"
      ]
     },
     "execution_count": 3,
     "metadata": {},
     "output_type": "execute_result"
    }
   ],
   "source": [
    "s1 = Series(np.arange(3),index = [\"C\",\"A\",\"B\"])\n",
    "s1"
   ]
  },
  {
   "cell_type": "code",
   "execution_count": 5,
   "id": "9840cdeb-0e18-4b8c-8f73-315350413739",
   "metadata": {},
   "outputs": [
    {
     "data": {
      "text/plain": [
       "A    1\n",
       "B    2\n",
       "C    0\n",
       "dtype: int32"
      ]
     },
     "execution_count": 5,
     "metadata": {},
     "output_type": "execute_result"
    }
   ],
   "source": [
    "s1.sort_index()"
   ]
  },
  {
   "cell_type": "code",
   "execution_count": 11,
   "id": "d4e3df81-bfed-46ae-8949-139d7e772938",
   "metadata": {},
   "outputs": [
    {
     "data": {
      "text/plain": [
       "C    0\n",
       "A    1\n",
       "B    2\n",
       "dtype: int32"
      ]
     },
     "execution_count": 11,
     "metadata": {},
     "output_type": "execute_result"
    }
   ],
   "source": [
    "s1.sort_values()"
   ]
  },
  {
   "cell_type": "code",
   "execution_count": 13,
   "id": "d96a1b6b-fecb-4a5c-8aaf-1c16aa3027cf",
   "metadata": {},
   "outputs": [],
   "source": [
    "from numpy.random import randn"
   ]
  },
  {
   "cell_type": "code",
   "execution_count": 15,
   "id": "55988f4b-4c45-45d5-9404-453378bc37e8",
   "metadata": {},
   "outputs": [
    {
     "data": {
      "text/plain": [
       "0    0.841316\n",
       "1    0.522484\n",
       "2    1.839713\n",
       "3   -0.173601\n",
       "4   -0.304952\n",
       "5   -0.459488\n",
       "6   -0.964045\n",
       "7    0.863633\n",
       "8    1.207549\n",
       "9   -0.194282\n",
       "dtype: float64"
      ]
     },
     "execution_count": 15,
     "metadata": {},
     "output_type": "execute_result"
    }
   ],
   "source": [
    "s2 = Series(randn(10))\n",
    "s2"
   ]
  },
  {
   "cell_type": "code",
   "execution_count": 19,
   "id": "a159e4f5-de27-4d1a-a2ff-b719e29c6416",
   "metadata": {},
   "outputs": [
    {
     "data": {
      "text/plain": [
       "6   -0.964045\n",
       "5   -0.459488\n",
       "4   -0.304952\n",
       "9   -0.194282\n",
       "3   -0.173601\n",
       "1    0.522484\n",
       "0    0.841316\n",
       "7    0.863633\n",
       "8    1.207549\n",
       "2    1.839713\n",
       "dtype: float64"
      ]
     },
     "execution_count": 19,
     "metadata": {},
     "output_type": "execute_result"
    }
   ],
   "source": [
    "s2.sort_values()"
   ]
  },
  {
   "cell_type": "code",
   "execution_count": 23,
   "id": "b0ac7cd4-ce99-4587-ab0c-2d937b1bb22c",
   "metadata": {},
   "outputs": [
    {
     "data": {
      "text/plain": [
       "0     7.0\n",
       "1     6.0\n",
       "2    10.0\n",
       "3     5.0\n",
       "4     3.0\n",
       "5     2.0\n",
       "6     1.0\n",
       "7     8.0\n",
       "8     9.0\n",
       "9     4.0\n",
       "dtype: float64"
      ]
     },
     "execution_count": 23,
     "metadata": {},
     "output_type": "execute_result"
    }
   ],
   "source": [
    "s2.rank()"
   ]
  },
  {
   "cell_type": "code",
   "execution_count": 27,
   "id": "8e7f8bc1-3e6b-476d-bce2-86c69413b36d",
   "metadata": {},
   "outputs": [
    {
     "data": {
      "text/plain": [
       "0   -1.623507\n",
       "1   -0.168881\n",
       "2    0.128373\n",
       "3    0.105996\n",
       "4    1.348052\n",
       "5   -0.311794\n",
       "6    0.710162\n",
       "7    0.290570\n",
       "8   -0.939600\n",
       "9    0.645469\n",
       "dtype: float64"
      ]
     },
     "execution_count": 27,
     "metadata": {},
     "output_type": "execute_result"
    }
   ],
   "source": [
    "s3 = Series(randn(10))\n",
    "s3"
   ]
  },
  {
   "cell_type": "code",
   "execution_count": 29,
   "id": "ecffc4ee-6ac4-4b7e-b4ae-eb3578646ed3",
   "metadata": {},
   "outputs": [
    {
     "data": {
      "text/plain": [
       "0     1.0\n",
       "1     4.0\n",
       "2     6.0\n",
       "3     5.0\n",
       "4    10.0\n",
       "5     3.0\n",
       "6     9.0\n",
       "7     7.0\n",
       "8     2.0\n",
       "9     8.0\n",
       "dtype: float64"
      ]
     },
     "execution_count": 29,
     "metadata": {},
     "output_type": "execute_result"
    }
   ],
   "source": [
    "s3.rank()"
   ]
  },
  {
   "cell_type": "code",
   "execution_count": 35,
   "id": "d1bed38c-e95b-4bc1-affb-9b8d10304669",
   "metadata": {},
   "outputs": [
    {
     "data": {
      "text/plain": [
       "0     1.0\n",
       "1     4.0\n",
       "2     6.0\n",
       "3     5.0\n",
       "4    10.0\n",
       "5     3.0\n",
       "6     9.0\n",
       "7     7.0\n",
       "8     2.0\n",
       "9     8.0\n",
       "dtype: float64"
      ]
     },
     "execution_count": 35,
     "metadata": {},
     "output_type": "execute_result"
    }
   ],
   "source": [
    "s3.sort_values()\n",
    "s3.rank()"
   ]
  },
  {
   "cell_type": "code",
   "execution_count": null,
   "id": "01d21072-43fd-451e-8aca-043a76eb7759",
   "metadata": {},
   "outputs": [],
   "source": []
  }
 ],
 "metadata": {
  "kernelspec": {
   "display_name": "Python 3 (ipykernel)",
   "language": "python",
   "name": "python3"
  },
  "language_info": {
   "codemirror_mode": {
    "name": "ipython",
    "version": 3
   },
   "file_extension": ".py",
   "mimetype": "text/x-python",
   "name": "python",
   "nbconvert_exporter": "python",
   "pygments_lexer": "ipython3",
   "version": "3.11.7"
  }
 },
 "nbformat": 4,
 "nbformat_minor": 5
}
