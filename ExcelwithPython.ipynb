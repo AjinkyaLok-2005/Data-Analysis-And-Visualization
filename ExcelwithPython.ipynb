{
 "cells": [
  {
   "cell_type": "code",
   "execution_count": 1,
   "id": "8bd20510-bb88-436c-9935-9c763b15b3ca",
   "metadata": {},
   "outputs": [],
   "source": [
    "import numpy as np\n",
    "import pandas as pd\n",
    "from pandas import Series,DataFrame"
   ]
  },
  {
   "cell_type": "code",
   "execution_count": 5,
   "id": "eb24343d-6129-413f-a45c-cfb11fc95130",
   "metadata": {},
   "outputs": [
    {
     "name": "stdout",
     "output_type": "stream",
     "text": [
      "Collecting xlrd\n",
      "  Downloading xlrd-2.0.1-py2.py3-none-any.whl.metadata (3.4 kB)\n",
      "Downloading xlrd-2.0.1-py2.py3-none-any.whl (96 kB)\n",
      "   ---------------------------------------- 0.0/96.5 kB ? eta -:--:--\n",
      "   ---------------------------------------- 0.0/96.5 kB ? eta -:--:--\n",
      "   ---------------------------------------- 0.0/96.5 kB ? eta -:--:--\n",
      "   ---------------------------------------- 0.0/96.5 kB ? eta -:--:--\n",
      "   ---------------------------------------- 0.0/96.5 kB ? eta -:--:--\n",
      "   ---------------------------------------- 0.0/96.5 kB ? eta -:--:--\n",
      "   ---------------------------------------- 0.0/96.5 kB ? eta -:--:--\n",
      "   ---------------------------------------- 0.0/96.5 kB ? eta -:--:--\n",
      "   ---------------------------------------- 0.0/96.5 kB ? eta -:--:--\n",
      "   ---------------------------------------- 0.0/96.5 kB ? eta -:--:--\n",
      "   ---------------------------------------- 0.0/96.5 kB ? eta -:--:--\n",
      "   ---------------------------------------- 0.0/96.5 kB ? eta -:--:--\n",
      "   ---------------- ----------------------- 41.0/96.5 kB ? eta -:--:--\n",
      "   ---------------- ----------------------- 41.0/96.5 kB ? eta -:--:--\n",
      "   ---------------- ----------------------- 41.0/96.5 kB ? eta -:--:--\n",
      "   ---------------- ----------------------- 41.0/96.5 kB ? eta -:--:--\n",
      "   ---------------- ----------------------- 41.0/96.5 kB ? eta -:--:--\n",
      "   ---------------- ----------------------- 41.0/96.5 kB ? eta -:--:--\n",
      "   ---------------- ----------------------- 41.0/96.5 kB ? eta -:--:--\n",
      "   ---------------- ----------------------- 41.0/96.5 kB ? eta -:--:--\n",
      "   ---------------- ----------------------- 41.0/96.5 kB ? eta -:--:--\n",
      "   ---------------- ----------------------- 41.0/96.5 kB ? eta -:--:--\n",
      "   ---------------- ----------------------- 41.0/96.5 kB ? eta -:--:--\n",
      "   ------------------------- -------------- 61.4/96.5 kB 99.2 kB/s eta 0:00:01\n",
      "   ------------------------- -------------- 61.4/96.5 kB 99.2 kB/s eta 0:00:01\n",
      "   ------------------------- -------------- 61.4/96.5 kB 99.2 kB/s eta 0:00:01\n",
      "   ------------------------- -------------- 61.4/96.5 kB 99.2 kB/s eta 0:00:01\n",
      "   ------------------------- -------------- 61.4/96.5 kB 99.2 kB/s eta 0:00:01\n",
      "   ------------------------- -------------- 61.4/96.5 kB 99.2 kB/s eta 0:00:01\n",
      "   ------------------------- -------------- 61.4/96.5 kB 99.2 kB/s eta 0:00:01\n",
      "   ------------------------- -------------- 61.4/96.5 kB 99.2 kB/s eta 0:00:01\n",
      "   ------------------------- -------------- 61.4/96.5 kB 99.2 kB/s eta 0:00:01\n",
      "   ------------------------- -------------- 61.4/96.5 kB 99.2 kB/s eta 0:00:01\n",
      "   ------------------------- -------------- 61.4/96.5 kB 99.2 kB/s eta 0:00:01\n",
      "   ------------------------- -------------- 61.4/96.5 kB 99.2 kB/s eta 0:00:01\n",
      "   ------------------------- -------------- 61.4/96.5 kB 99.2 kB/s eta 0:00:01\n",
      "   ------------------------- -------------- 61.4/96.5 kB 99.2 kB/s eta 0:00:01\n",
      "   ------------------------- -------------- 61.4/96.5 kB 99.2 kB/s eta 0:00:01\n",
      "   --------------------------------- ------ 81.9/96.5 kB 58.8 kB/s eta 0:00:01\n",
      "   --------------------------------- ------ 81.9/96.5 kB 58.8 kB/s eta 0:00:01\n",
      "   --------------------------------- ------ 81.9/96.5 kB 58.8 kB/s eta 0:00:01\n",
      "   --------------------------------- ------ 81.9/96.5 kB 58.8 kB/s eta 0:00:01\n",
      "   --------------------------------- ------ 81.9/96.5 kB 58.8 kB/s eta 0:00:01\n",
      "   --------------------------------- ------ 81.9/96.5 kB 58.8 kB/s eta 0:00:01\n",
      "   ---------------------------------------- 96.5/96.5 kB 56.4 kB/s eta 0:00:00\n",
      "Installing collected packages: xlrd\n",
      "Successfully installed xlrd-2.0.1\n",
      "Note: you may need to restart the kernel to use updated packages.\n"
     ]
    }
   ],
   "source": [
    "pip install xlrd"
   ]
  },
  {
   "cell_type": "code",
   "execution_count": 7,
   "id": "03d64463-c62d-44e9-b9b1-0ffe02cf88a3",
   "metadata": {},
   "outputs": [
    {
     "name": "stdout",
     "output_type": "stream",
     "text": [
      "Requirement already satisfied: openpyxl in c:\\programdata\\anaconda3\\lib\\site-packages (3.0.10)\n",
      "Requirement already satisfied: et_xmlfile in c:\\programdata\\anaconda3\\lib\\site-packages (from openpyxl) (1.1.0)\n",
      "Note: you may need to restart the kernel to use updated packages.\n"
     ]
    }
   ],
   "source": [
    "pip install openpyxl "
   ]
  },
  {
   "cell_type": "code",
   "execution_count": 9,
   "id": "6f91a745-cb12-498f-8902-d7ea565ae354",
   "metadata": {},
   "outputs": [],
   "source": [
    "xlsfile = pd.ExcelFile(\"D:\\lec28_test.xlsx\")"
   ]
  },
  {
   "cell_type": "code",
   "execution_count": 11,
   "id": "9ef7bd29-7af7-4265-bdab-98f7a2700bcb",
   "metadata": {},
   "outputs": [],
   "source": [
    "dframe = xlsfile.parse('Sheet1')"
   ]
  },
  {
   "cell_type": "code",
   "execution_count": 13,
   "id": "03f4f65a-b0a9-4c72-b50b-e3bd7b14c1dd",
   "metadata": {},
   "outputs": [
    {
     "data": {
      "text/html": [
       "<div>\n",
       "<style scoped>\n",
       "    .dataframe tbody tr th:only-of-type {\n",
       "        vertical-align: middle;\n",
       "    }\n",
       "\n",
       "    .dataframe tbody tr th {\n",
       "        vertical-align: top;\n",
       "    }\n",
       "\n",
       "    .dataframe thead th {\n",
       "        text-align: right;\n",
       "    }\n",
       "</style>\n",
       "<table border=\"1\" class=\"dataframe\">\n",
       "  <thead>\n",
       "    <tr style=\"text-align: right;\">\n",
       "      <th></th>\n",
       "      <th>This is a test</th>\n",
       "      <th>Unnamed: 1</th>\n",
       "      <th>Unnamed: 2</th>\n",
       "    </tr>\n",
       "  </thead>\n",
       "  <tbody>\n",
       "    <tr>\n",
       "      <th>0</th>\n",
       "      <td>23.0</td>\n",
       "      <td>6678.0</td>\n",
       "      <td>456</td>\n",
       "    </tr>\n",
       "    <tr>\n",
       "      <th>1</th>\n",
       "      <td>234.0</td>\n",
       "      <td>678.0</td>\n",
       "      <td>456</td>\n",
       "    </tr>\n",
       "    <tr>\n",
       "      <th>2</th>\n",
       "      <td>234.0</td>\n",
       "      <td>7.0</td>\n",
       "      <td>345</td>\n",
       "    </tr>\n",
       "    <tr>\n",
       "      <th>3</th>\n",
       "      <td>34.0</td>\n",
       "      <td>56.0</td>\n",
       "      <td>234</td>\n",
       "    </tr>\n",
       "    <tr>\n",
       "      <th>4</th>\n",
       "      <td>5.0</td>\n",
       "      <td>456.0</td>\n",
       "      <td>4365</td>\n",
       "    </tr>\n",
       "    <tr>\n",
       "      <th>5</th>\n",
       "      <td>NaN</td>\n",
       "      <td>NaN</td>\n",
       "      <td></td>\n",
       "    </tr>\n",
       "  </tbody>\n",
       "</table>\n",
       "</div>"
      ],
      "text/plain": [
       "   This is a test  Unnamed: 1 Unnamed: 2\n",
       "0            23.0      6678.0        456\n",
       "1           234.0       678.0        456\n",
       "2           234.0         7.0        345\n",
       "3            34.0        56.0        234\n",
       "4             5.0       456.0       4365\n",
       "5             NaN         NaN           "
      ]
     },
     "execution_count": 13,
     "metadata": {},
     "output_type": "execute_result"
    }
   ],
   "source": [
    "dframe"
   ]
  },
  {
   "cell_type": "code",
   "execution_count": null,
   "id": "61067c50-c14c-421c-a9ea-97a0f719d540",
   "metadata": {},
   "outputs": [],
   "source": []
  }
 ],
 "metadata": {
  "kernelspec": {
   "display_name": "Python 3 (ipykernel)",
   "language": "python",
   "name": "python3"
  },
  "language_info": {
   "codemirror_mode": {
    "name": "ipython",
    "version": 3
   },
   "file_extension": ".py",
   "mimetype": "text/x-python",
   "name": "python",
   "nbconvert_exporter": "python",
   "pygments_lexer": "ipython3",
   "version": "3.11.7"
  }
 },
 "nbformat": 4,
 "nbformat_minor": 5
}
